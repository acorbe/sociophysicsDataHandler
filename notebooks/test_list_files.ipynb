{
 "cells": [
  {
   "cell_type": "code",
   "execution_count": 1,
   "metadata": {},
   "outputs": [],
   "source": [
    "%load_ext autoreload\n",
    "%autoreload 2\n",
    "\n",
    "from sociophysicsDataHandler import SociophysicsDataHandler"
   ]
  },
  {
   "cell_type": "code",
   "execution_count": 5,
   "metadata": {},
   "outputs": [
    {
     "name": "stdout",
     "output_type": "stream",
     "text": [
      "Folder / contains the following files and/or folders:\n",
      "Folder: asdz\n",
      "\n",
      "Folder /asdz/ contains the following files and/or folders:\n",
      "Folder: background_images\n",
      "\n",
      "Folder /asdz/background_images/ contains the following files and/or folders:\n",
      "  File: asdz-platform2.1-stairs.bmp\n",
      "  File: asdz-platform2.2-esc.bmp\n",
      "\n",
      "\n",
      "Folder: platform2.1\n",
      "\n",
      "Folder /asdz/platform2.1/ contains the following files and/or folders:\n",
      "Folder: 20200428\n",
      "\n",
      "Folder /asdz/platform2.1/20200428/ contains the following files and/or folders:\n",
      "  File: ASDZ_Perron2.1_2020042800_trajectorie.parquet\n",
      "  File: ASDZ_Perron2.1_2020042801_trajectorie.parquet\n",
      "  File: ASDZ_Perron2.1_2020042802_trajectorie.parquet\n",
      "  File: ASDZ_Perron2.1_2020042803_trajectorie.parquet\n",
      "  File: ASDZ_Perron2.1_2020042804_trajectorie.parquet\n",
      "  File: ASDZ_Perron2.1_2020042805_trajectorie.parquet\n",
      "  File: ASDZ_Perron2.1_2020042806_trajectorie.parquet\n",
      "  File: ASDZ_Perron2.1_2020042807_trajectorie.parquet\n",
      "  File: ASDZ_Perron2.1_2020042808_trajectorie.parquet\n",
      "  File: ASDZ_Perron2.1_2020042809_trajectorie.parquet\n",
      "  File: ASDZ_Perron2.1_2020042810_trajectorie.parquet\n",
      "  File: ASDZ_Perron2.1_2020042811_trajectorie.parquet\n",
      "  File: ASDZ_Perron2.1_2020042812_trajectorie.parquet\n",
      "  File: ASDZ_Perron2.1_2020042813_trajectorie.parquet\n",
      "  File: ASDZ_Perron2.1_2020042814_trajectorie.parquet\n",
      "  File: ASDZ_Perron2.1_2020042815_trajectorie.parquet\n",
      "  File: ASDZ_Perron2.1_2020042816_trajectorie.parquet\n",
      "  File: ASDZ_Perron2.1_2020042817_trajectorie.parquet\n",
      "  File: ASDZ_Perron2.1_2020042818_trajectorie.parquet\n",
      "  File: ASDZ_Perron2.1_2020042819_trajectorie.parquet\n",
      "  File: ASDZ_Perron2.1_2020042820_trajectorie.parquet\n",
      "  File: ASDZ_Perron2.1_2020042821_trajectorie.parquet\n",
      "  File: ASDZ_Perron2.1_2020042822_trajectorie.parquet\n",
      "  File: ASDZ_Perron2.1_2020042823_trajectorie.parquet\n",
      "\n",
      "\n",
      "Folder: platform2.2\n",
      "\n",
      "Folder /asdz/platform2.2/ contains the following files and/or folders:\n",
      "Folder: 20200428\n",
      "\n",
      "Folder /asdz/platform2.2/20200428/ contains the following files and/or folders:\n",
      "  File: ASDZ_Perron2.2_2020042800_trajectorie.parquet\n",
      "  File: ASDZ_Perron2.2_2020042801_trajectorie.parquet\n",
      "  File: ASDZ_Perron2.2_2020042802_trajectorie.parquet\n",
      "  File: ASDZ_Perron2.2_2020042803_trajectorie.parquet\n",
      "  File: ASDZ_Perron2.2_2020042804_trajectorie.parquet\n",
      "  File: ASDZ_Perron2.2_2020042805_trajectorie.parquet\n",
      "  File: ASDZ_Perron2.2_2020042806_trajectorie.parquet\n",
      "  File: ASDZ_Perron2.2_2020042807_trajectorie.parquet\n",
      "  File: ASDZ_Perron2.2_2020042808_trajectorie.parquet\n",
      "  File: ASDZ_Perron2.2_2020042809_trajectorie.parquet\n",
      "  File: ASDZ_Perron2.2_2020042810_trajectorie.parquet\n",
      "  File: ASDZ_Perron2.2_2020042811_trajectorie.parquet\n",
      "  File: ASDZ_Perron2.2_2020042812_trajectorie.parquet\n",
      "  File: ASDZ_Perron2.2_2020042813_trajectorie.parquet\n",
      "  File: ASDZ_Perron2.2_2020042814_trajectorie.parquet\n",
      "  File: ASDZ_Perron2.2_2020042815_trajectorie.parquet\n",
      "  File: ASDZ_Perron2.2_2020042816_trajectorie.parquet\n",
      "  File: ASDZ_Perron2.2_2020042817_trajectorie.parquet\n",
      "  File: ASDZ_Perron2.2_2020042818_trajectorie.parquet\n",
      "  File: ASDZ_Perron2.2_2020042819_trajectorie.parquet\n",
      "  File: ASDZ_Perron2.2_2020042820_trajectorie.parquet\n",
      "  File: ASDZ_Perron2.2_2020042821_trajectorie.parquet\n",
      "  File: ASDZ_Perron2.2_2020042822_trajectorie.parquet\n",
      "  File: ASDZ_Perron2.2_2020042823_trajectorie.parquet\n",
      "\n",
      "\n",
      "Folder: depth_kinect_glow\n",
      "\n",
      "Folder /depth_kinect_glow/ contains the following files and/or folders:\n",
      "  File: 17.11.11-15-53-28_2017-11-11_17-37-37.985708_9d6c8ecc-8253-4578-9714-1691ba5596cd_00000101_182588.tar.json.gz\n",
      "  File: 17.11.11-15-53-28_2017-11-11_20-25-41.262248_9d6c8ecc-8253-4578-9714-1691ba5596cd_00000264_475993.tar.json.gz\n",
      "\n",
      "\n"
     ]
    }
   ],
   "source": [
    "dh = SociophysicsDataHandler()\n",
    "dh.list_files('')"
   ]
  }
 ],
 "metadata": {
  "kernelspec": {
   "display_name": "Python 3",
   "language": "python",
   "name": "python3"
  },
  "language_info": {
   "codemirror_mode": {
    "name": "ipython",
    "version": 3
   },
   "file_extension": ".py",
   "mimetype": "text/x-python",
   "name": "python",
   "nbconvert_exporter": "python",
   "pygments_lexer": "ipython3",
   "version": "3.7.4"
  }
 },
 "nbformat": 4,
 "nbformat_minor": 2
}
