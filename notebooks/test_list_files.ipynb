{
 "cells": [
  {
   "cell_type": "code",
   "execution_count": 3,
   "metadata": {},
   "outputs": [
    {
     "name": "stdout",
     "output_type": "stream",
     "text": [
      "The autoreload extension is already loaded. To reload it, use:\n",
      "  %reload_ext autoreload\n"
     ]
    }
   ],
   "source": [
    "%load_ext autoreload\n",
    "%autoreload 2\n",
    "\n",
    "from sociophysicsDataHandler import SociophysicsDataHandler"
   ]
  },
  {
   "cell_type": "code",
   "execution_count": 4,
   "metadata": {},
   "outputs": [
    {
     "name": "stdout",
     "output_type": "stream",
     "text": [
      "Files listed. Accessible as <this-object>.filelist\n"
     ]
    },
    {
     "data": {
      "text/html": [
       "<div>\n",
       "<style scoped>\n",
       "    .dataframe tbody tr th:only-of-type {\n",
       "        vertical-align: middle;\n",
       "    }\n",
       "\n",
       "    .dataframe tbody tr th {\n",
       "        vertical-align: top;\n",
       "    }\n",
       "\n",
       "    .dataframe thead th {\n",
       "        text-align: right;\n",
       "    }\n",
       "</style>\n",
       "<table border=\"1\" class=\"dataframe\">\n",
       "  <thead>\n",
       "    <tr style=\"text-align: right;\">\n",
       "      <th></th>\n",
       "      <th>path</th>\n",
       "      <th>name</th>\n",
       "      <th>attributes</th>\n",
       "    </tr>\n",
       "  </thead>\n",
       "  <tbody>\n",
       "    <tr>\n",
       "      <th>0</th>\n",
       "      <td>/ProRail_USE_LL_data/asdz/</td>\n",
       "      <td>asdz</td>\n",
       "      <td>{'{DAV:}getlastmodified': 'Thu, 13 Aug 2020 06...</td>\n",
       "    </tr>\n",
       "    <tr>\n",
       "      <th>1</th>\n",
       "      <td>/ProRail_USE_LL_data/depth_kinect_glow/</td>\n",
       "      <td>depth_kinect_glow</td>\n",
       "      <td>{'{DAV:}getlastmodified': 'Thu, 20 Aug 2020 11...</td>\n",
       "    </tr>\n",
       "    <tr>\n",
       "      <th>2</th>\n",
       "      <td>/ProRail_USE_LL_data/depth_kinect_glow17/</td>\n",
       "      <td>depth_kinect_glow17</td>\n",
       "      <td>{'{DAV:}getlastmodified': 'Thu, 20 Aug 2020 11...</td>\n",
       "    </tr>\n",
       "  </tbody>\n",
       "</table>\n",
       "</div>"
      ],
      "text/plain": [
       "                                        path                 name  \\\n",
       "0                 /ProRail_USE_LL_data/asdz/                 asdz   \n",
       "1    /ProRail_USE_LL_data/depth_kinect_glow/    depth_kinect_glow   \n",
       "2  /ProRail_USE_LL_data/depth_kinect_glow17/  depth_kinect_glow17   \n",
       "\n",
       "                                          attributes  \n",
       "0  {'{DAV:}getlastmodified': 'Thu, 13 Aug 2020 06...  \n",
       "1  {'{DAV:}getlastmodified': 'Thu, 20 Aug 2020 11...  \n",
       "2  {'{DAV:}getlastmodified': 'Thu, 20 Aug 2020 11...  "
      ]
     },
     "execution_count": 4,
     "metadata": {},
     "output_type": "execute_result"
    }
   ],
   "source": [
    "dh = SociophysicsDataHandler()\n",
    "dh.list_files('')"
   ]
  },
  {
   "cell_type": "code",
   "execution_count": 10,
   "metadata": {},
   "outputs": [
    {
     "name": "stdout",
     "output_type": "stream",
     "text": [
      "/ProRail_USE_LL_data/asdz/\n",
      "Folder /ProRail_USE_LL_data/asdz/ contains the following files and/or folders:\n",
      "Folder: background_images\n",
      "\n",
      "/ProRail_USE_LL_data/asdz/background_images/\n",
      "Folder /ProRail_USE_LL_data/asdz/background_images contains the following files and/or folders:\n",
      "  File: asdz-platform2.1-stairs.bmp\n",
      "  File: asdz-platform2.2-esc.bmp\n",
      "\n",
      "\n",
      "Folder: platform2.1\n",
      "\n",
      "/ProRail_USE_LL_data/asdz/platform2.1/\n",
      "Folder /ProRail_USE_LL_data/asdz/platform2.1 contains the following files and/or folders:\n",
      "Folder: 20200428\n",
      "\n",
      "/ProRail_USE_LL_data/asdz/platform2.1/20200428/\n",
      "Folder /ProRail_USE_LL_data/asdz/platform2.1/20200428 contains the following files and/or folders:\n",
      "  File: ASDZ_Perron2.1_2020042800_trajectorie.parquet\n",
      "  File: ASDZ_Perron2.1_2020042801_trajectorie.parquet\n",
      "  File: ASDZ_Perron2.1_2020042802_trajectorie.parquet\n",
      "  File: ASDZ_Perron2.1_2020042803_trajectorie.parquet\n",
      "  File: ASDZ_Perron2.1_2020042804_trajectorie.parquet\n",
      "  File: ASDZ_Perron2.1_2020042805_trajectorie.parquet\n",
      "  File: ASDZ_Perron2.1_2020042806_trajectorie.parquet\n",
      "  File: ASDZ_Perron2.1_2020042807_trajectorie.parquet\n",
      "  File: ASDZ_Perron2.1_2020042808_trajectorie.parquet\n",
      "  File: ASDZ_Perron2.1_2020042809_trajectorie.parquet\n",
      "  File: ASDZ_Perron2.1_2020042810_trajectorie.parquet\n",
      "  File: ASDZ_Perron2.1_2020042811_trajectorie.parquet\n",
      "  File: ASDZ_Perron2.1_2020042812_trajectorie.parquet\n",
      "  File: ASDZ_Perron2.1_2020042813_trajectorie.parquet\n",
      "  File: ASDZ_Perron2.1_2020042814_trajectorie.parquet\n",
      "  File: ASDZ_Perron2.1_2020042815_trajectorie.parquet\n",
      "  File: ASDZ_Perron2.1_2020042816_trajectorie.parquet\n",
      "  File: ASDZ_Perron2.1_2020042817_trajectorie.parquet\n",
      "  File: ASDZ_Perron2.1_2020042818_trajectorie.parquet\n",
      "  File: ASDZ_Perron2.1_2020042819_trajectorie.parquet\n",
      "  File: ASDZ_Perron2.1_2020042820_trajectorie.parquet\n",
      "  File: ASDZ_Perron2.1_2020042821_trajectorie.parquet\n",
      "  File: ASDZ_Perron2.1_2020042822_trajectorie.parquet\n",
      "  File: ASDZ_Perron2.1_2020042823_trajectorie.parquet\n",
      "\n",
      "\n",
      "Folder: platform2.2\n",
      "\n",
      "/ProRail_USE_LL_data/asdz/platform2.2/\n",
      "Folder /ProRail_USE_LL_data/asdz/platform2.2 contains the following files and/or folders:\n",
      "Folder: 20200428\n",
      "\n",
      "/ProRail_USE_LL_data/asdz/platform2.2/20200428/\n",
      "Folder /ProRail_USE_LL_data/asdz/platform2.2/20200428 contains the following files and/or folders:\n",
      "  File: ASDZ_Perron2.2_2020042800_trajectorie.parquet\n",
      "  File: ASDZ_Perron2.2_2020042801_trajectorie.parquet\n",
      "  File: ASDZ_Perron2.2_2020042802_trajectorie.parquet\n",
      "  File: ASDZ_Perron2.2_2020042803_trajectorie.parquet\n",
      "  File: ASDZ_Perron2.2_2020042804_trajectorie.parquet\n",
      "  File: ASDZ_Perron2.2_2020042805_trajectorie.parquet\n",
      "  File: ASDZ_Perron2.2_2020042806_trajectorie.parquet\n",
      "  File: ASDZ_Perron2.2_2020042807_trajectorie.parquet\n",
      "  File: ASDZ_Perron2.2_2020042808_trajectorie.parquet\n",
      "  File: ASDZ_Perron2.2_2020042809_trajectorie.parquet\n",
      "  File: ASDZ_Perron2.2_2020042810_trajectorie.parquet\n",
      "  File: ASDZ_Perron2.2_2020042811_trajectorie.parquet\n",
      "  File: ASDZ_Perron2.2_2020042812_trajectorie.parquet\n",
      "  File: ASDZ_Perron2.2_2020042813_trajectorie.parquet\n",
      "  File: ASDZ_Perron2.2_2020042814_trajectorie.parquet\n",
      "  File: ASDZ_Perron2.2_2020042815_trajectorie.parquet\n",
      "  File: ASDZ_Perron2.2_2020042816_trajectorie.parquet\n",
      "  File: ASDZ_Perron2.2_2020042817_trajectorie.parquet\n",
      "  File: ASDZ_Perron2.2_2020042818_trajectorie.parquet\n",
      "  File: ASDZ_Perron2.2_2020042819_trajectorie.parquet\n",
      "  File: ASDZ_Perron2.2_2020042820_trajectorie.parquet\n",
      "  File: ASDZ_Perron2.2_2020042821_trajectorie.parquet\n",
      "  File: ASDZ_Perron2.2_2020042822_trajectorie.parquet\n",
      "  File: ASDZ_Perron2.2_2020042823_trajectorie.parquet\n",
      "\n",
      "\n"
     ]
    }
   ],
   "source": [
    "dh.print_files('/ProRail_USE_LL_data/asdz/')"
   ]
  },
  {
   "cell_type": "code",
   "execution_count": null,
   "metadata": {},
   "outputs": [],
   "source": []
  }
 ],
 "metadata": {
  "kernelspec": {
   "display_name": "Python 3",
   "language": "python",
   "name": "python3"
  },
  "language_info": {
   "codemirror_mode": {
    "name": "ipython",
    "version": 3
   },
   "file_extension": ".py",
   "mimetype": "text/x-python",
   "name": "python",
   "nbconvert_exporter": "python",
   "pygments_lexer": "ipython3",
   "version": "3.6.9"
  }
 },
 "nbformat": 4,
 "nbformat_minor": 4
}
