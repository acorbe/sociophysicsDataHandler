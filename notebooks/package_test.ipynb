{
 "cells": [
  {
   "cell_type": "code",
   "execution_count": 1,
   "metadata": {},
   "outputs": [],
   "source": [
    "%load_ext autoreload\n",
    "%autoreload 2\n",
    "\n",
    "from sociophysicsDataHandler import SociophysicsDataHandler"
   ]
  },
  {
   "cell_type": "code",
   "execution_count": 2,
   "metadata": {},
   "outputs": [],
   "source": [
    "dh = SociophysicsDataHandler()"
   ]
  },
  {
   "cell_type": "code",
   "execution_count": 3,
   "metadata": {},
   "outputs": [
    {
     "name": "stdout",
     "output_type": "stream",
     "text": [
      "trying to fetch: /Crowdflow (Projectfolder)/ProRail_USE_LL_data/asdz/platform2.1/20200428/ASDZ_Perron2.2_2020042815_trajectorie.parquet\n",
      "data fetched. Accessible as <this-object>.df\n"
     ]
    }
   ],
   "source": [
    "## Cas, for you it should be true\n",
    "student_config = False\n",
    "\n",
    "if student_config:\n",
    "\n",
    "    dh.fetch_data_from_path('asdz/platform2.1/20200428/ASDZ_Perron2.2_2020042815_trajectorie.parquet')\n",
    "else:\n",
    "    webdav_basepath='/Crowdflow (Projectfolder)/ProRail_USE_LL_data'\n",
    "    dh.fetch_data_from_path('asdz/platform2.1/20200428/ASDZ_Perron2.2_2020042815_trajectorie.parquet'\n",
    "                            ,basepath=webdav_basepath)\n",
    "    "
   ]
  },
  {
   "cell_type": "code",
   "execution_count": 4,
   "metadata": {},
   "outputs": [
    {
     "data": {
      "text/html": [
       "<div>\n",
       "<style scoped>\n",
       "    .dataframe tbody tr th:only-of-type {\n",
       "        vertical-align: middle;\n",
       "    }\n",
       "\n",
       "    .dataframe tbody tr th {\n",
       "        vertical-align: top;\n",
       "    }\n",
       "\n",
       "    .dataframe thead th {\n",
       "        text-align: right;\n",
       "    }\n",
       "</style>\n",
       "<table border=\"1\" class=\"dataframe\">\n",
       "  <thead>\n",
       "    <tr style=\"text-align: right;\">\n",
       "      <th></th>\n",
       "      <th>date_time_utc</th>\n",
       "      <th>tracked_object</th>\n",
       "      <th>x_pos</th>\n",
       "      <th>y_pos</th>\n",
       "    </tr>\n",
       "  </thead>\n",
       "  <tbody>\n",
       "    <tr>\n",
       "      <td>0</td>\n",
       "      <td>1588086000000</td>\n",
       "      <td>129648</td>\n",
       "      <td>-11079</td>\n",
       "      <td>-3286</td>\n",
       "    </tr>\n",
       "    <tr>\n",
       "      <td>1</td>\n",
       "      <td>1588086000100</td>\n",
       "      <td>129648</td>\n",
       "      <td>-11128</td>\n",
       "      <td>-3235</td>\n",
       "    </tr>\n",
       "    <tr>\n",
       "      <td>2</td>\n",
       "      <td>1588086000200</td>\n",
       "      <td>129648</td>\n",
       "      <td>-11200</td>\n",
       "      <td>-3160</td>\n",
       "    </tr>\n",
       "    <tr>\n",
       "      <td>3</td>\n",
       "      <td>1588086000300</td>\n",
       "      <td>129648</td>\n",
       "      <td>-11247</td>\n",
       "      <td>-3036</td>\n",
       "    </tr>\n",
       "    <tr>\n",
       "      <td>4</td>\n",
       "      <td>1588086000400</td>\n",
       "      <td>129648</td>\n",
       "      <td>-11356</td>\n",
       "      <td>-2958</td>\n",
       "    </tr>\n",
       "    <tr>\n",
       "      <td>...</td>\n",
       "      <td>...</td>\n",
       "      <td>...</td>\n",
       "      <td>...</td>\n",
       "      <td>...</td>\n",
       "    </tr>\n",
       "    <tr>\n",
       "      <td>99948</td>\n",
       "      <td>1588089522600</td>\n",
       "      <td>130098</td>\n",
       "      <td>-16015</td>\n",
       "      <td>-1411</td>\n",
       "    </tr>\n",
       "    <tr>\n",
       "      <td>99949</td>\n",
       "      <td>1588089522700</td>\n",
       "      <td>130098</td>\n",
       "      <td>-16015</td>\n",
       "      <td>-1411</td>\n",
       "    </tr>\n",
       "    <tr>\n",
       "      <td>99950</td>\n",
       "      <td>1588089522800</td>\n",
       "      <td>130098</td>\n",
       "      <td>-16048</td>\n",
       "      <td>-1394</td>\n",
       "    </tr>\n",
       "    <tr>\n",
       "      <td>99951</td>\n",
       "      <td>1588089522900</td>\n",
       "      <td>130098</td>\n",
       "      <td>-16067</td>\n",
       "      <td>-1388</td>\n",
       "    </tr>\n",
       "    <tr>\n",
       "      <td>99952</td>\n",
       "      <td>1588089523000</td>\n",
       "      <td>130098</td>\n",
       "      <td>-16084</td>\n",
       "      <td>-1381</td>\n",
       "    </tr>\n",
       "  </tbody>\n",
       "</table>\n",
       "<p>99953 rows × 4 columns</p>\n",
       "</div>"
      ],
      "text/plain": [
       "       date_time_utc tracked_object   x_pos  y_pos\n",
       "0      1588086000000         129648  -11079  -3286\n",
       "1      1588086000100         129648  -11128  -3235\n",
       "2      1588086000200         129648  -11200  -3160\n",
       "3      1588086000300         129648  -11247  -3036\n",
       "4      1588086000400         129648  -11356  -2958\n",
       "...              ...            ...     ...    ...\n",
       "99948  1588089522600         130098  -16015  -1411\n",
       "99949  1588089522700         130098  -16015  -1411\n",
       "99950  1588089522800         130098  -16048  -1394\n",
       "99951  1588089522900         130098  -16067  -1388\n",
       "99952  1588089523000         130098  -16084  -1381\n",
       "\n",
       "[99953 rows x 4 columns]"
      ]
     },
     "execution_count": 4,
     "metadata": {},
     "output_type": "execute_result"
    }
   ],
   "source": [
    "dh.df"
   ]
  }
 ],
 "metadata": {
  "kernelspec": {
   "display_name": "Python 3",
   "language": "python",
   "name": "python3"
  },
  "language_info": {
   "codemirror_mode": {
    "name": "ipython",
    "version": 3
   },
   "file_extension": ".py",
   "mimetype": "text/x-python",
   "name": "python",
   "nbconvert_exporter": "python",
   "pygments_lexer": "ipython3",
   "version": "3.7.4"
  }
 },
 "nbformat": 4,
 "nbformat_minor": 2
}
