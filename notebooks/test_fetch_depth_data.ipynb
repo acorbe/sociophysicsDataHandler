{
 "cells": [
  {
   "cell_type": "code",
   "execution_count": 4,
   "metadata": {},
   "outputs": [
    {
     "name": "stdout",
     "output_type": "stream",
     "text": [
      "Populating the interactive namespace from numpy and matplotlib\n",
      "The autoreload extension is already loaded. To reload it, use:\n",
      "  %reload_ext autoreload\n"
     ]
    }
   ],
   "source": [
    "from sociophysicsDataHandler import SociophysicsDataHandler\n",
    "\n",
    "import glob\n",
    "import pandas as pd\n",
    "%pylab inline\n",
    "\n",
    "\n",
    "%load_ext autoreload\n",
    "%autoreload 2\n",
    "\n",
    "PATH = '17.11.11-15-53-28_2017-11-11_20-25-41.262248_9d6c8ecc-8253-4578-9714-1691ba5596cd_00000264_475993.tar.json.gz'\n",
    "BASEPATH = \"depth_kinect_glow17\""
   ]
  },
  {
   "cell_type": "code",
   "execution_count": 5,
   "metadata": {},
   "outputs": [],
   "source": [
    "dh = SociophysicsDataHandler()\n",
    "#dh.load_credentials(auth_fname=\"../sociophysicsDataHandler/auth.txt\")"
   ]
  },
  {
   "cell_type": "code",
   "execution_count": 6,
   "metadata": {},
   "outputs": [
    {
     "name": "stdout",
     "output_type": "stream",
     "text": [
      "Files listed. Accessible as <this-object>.filelist\n"
     ]
    },
    {
     "data": {
      "text/html": [
       "<div>\n",
       "<style scoped>\n",
       "    .dataframe tbody tr th:only-of-type {\n",
       "        vertical-align: middle;\n",
       "    }\n",
       "\n",
       "    .dataframe tbody tr th {\n",
       "        vertical-align: top;\n",
       "    }\n",
       "\n",
       "    .dataframe thead th {\n",
       "        text-align: right;\n",
       "    }\n",
       "</style>\n",
       "<table border=\"1\" class=\"dataframe\">\n",
       "  <thead>\n",
       "    <tr style=\"text-align: right;\">\n",
       "      <th></th>\n",
       "      <th>path</th>\n",
       "      <th>name</th>\n",
       "      <th>attributes</th>\n",
       "    </tr>\n",
       "  </thead>\n",
       "  <tbody>\n",
       "    <tr>\n",
       "      <th>0</th>\n",
       "      <td>/ProRail_USE_LL_data/depth_kinect_glow17/17.11...</td>\n",
       "      <td>17.11.11-15-53-28_2017-11-11_20-25-41.262248_9...</td>\n",
       "      <td>{'{DAV:}getlastmodified': 'Thu, 20 Aug 2020 11...</td>\n",
       "    </tr>\n",
       "  </tbody>\n",
       "</table>\n",
       "</div>"
      ],
      "text/plain": [
       "                                                path  \\\n",
       "0  /ProRail_USE_LL_data/depth_kinect_glow17/17.11...   \n",
       "\n",
       "                                                name  \\\n",
       "0  17.11.11-15-53-28_2017-11-11_20-25-41.262248_9...   \n",
       "\n",
       "                                          attributes  \n",
       "0  {'{DAV:}getlastmodified': 'Thu, 20 Aug 2020 11...  "
      ]
     },
     "execution_count": 6,
     "metadata": {},
     "output_type": "execute_result"
    }
   ],
   "source": [
    "dh.list_files(\"depth_kinect_glow17\")\n",
    "\n"
   ]
  },
  {
   "cell_type": "code",
   "execution_count": 7,
   "metadata": {},
   "outputs": [
    {
     "name": "stdout",
     "output_type": "stream",
     "text": [
      "trying to fetch: /ProRail_USE_LL_data/depth_kinect_glow17/17.11.11-15-53-28_2017-11-11_20-25-41.262248_9d6c8ecc-8253-4578-9714-1691ba5596cd_00000264_475993.tar.json.gz\n",
      "1804 depth maps retrieved!\n",
      "Date: 2017-11-11\n",
      "Between 20:25:41.262248 and 20:26:43.436257\n",
      "\n",
      "depth data fetched. Accessible as <this-object>.dd and associated timestamps accesible as <this-object>.t\n"
     ]
    }
   ],
   "source": [
    "dh.fetch_depth_data_from_path(path = 'depth_kinect_glow17/17.11.11-15-53-28_2017-11-11_20-25-41.262248_9d6c8ecc-8253-4578-9714-1691ba5596cd_00000264_475993.tar.json.gz')"
   ]
  },
  {
   "cell_type": "code",
   "execution_count": 30,
   "metadata": {},
   "outputs": [
    {
     "data": {
      "text/plain": [
       "(1804, 850, 700)"
      ]
     },
     "execution_count": 30,
     "metadata": {},
     "output_type": "execute_result"
    }
   ],
   "source": [
    "dh.dd.shape"
   ]
  },
  {
   "cell_type": "code",
   "execution_count": 31,
   "metadata": {},
   "outputs": [
    {
     "data": {
      "text/plain": [
       "array(['2017-11-11_20:25:41.262248', '2017-11-11_20:25:41.298325',\n",
       "       '2017-11-11_20:25:41.332289', ..., '2017-11-11_20:26:43.375144',\n",
       "       '2017-11-11_20:26:43.405997', '2017-11-11_20:26:43.436257'],\n",
       "      dtype='<U26')"
      ]
     },
     "execution_count": 31,
     "metadata": {},
     "output_type": "execute_result"
    }
   ],
   "source": [
    "dh.t"
   ]
  },
  {
   "cell_type": "code",
   "execution_count": null,
   "metadata": {},
   "outputs": [],
   "source": []
  }
 ],
 "metadata": {
  "kernelspec": {
   "display_name": "Python 3",
   "language": "python",
   "name": "python3"
  },
  "language_info": {
   "codemirror_mode": {
    "name": "ipython",
    "version": 3
   },
   "file_extension": ".py",
   "mimetype": "text/x-python",
   "name": "python",
   "nbconvert_exporter": "python",
   "pygments_lexer": "ipython3",
   "version": "3.6.9"
  }
 },
 "nbformat": 4,
 "nbformat_minor": 4
}
