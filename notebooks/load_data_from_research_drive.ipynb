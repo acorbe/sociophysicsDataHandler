{
 "cells": [
  {
   "cell_type": "code",
   "execution_count": 15,
   "metadata": {},
   "outputs": [
    {
     "name": "stdout",
     "output_type": "stream",
     "text": [
      "[File(path=/ProRail_USE_LL_data/asdz/platform2.1/20200428/ASDZ_Perron2.1_2020042800_trajectorie.parquet,file_type=file,attributes={'{DAV:}getlastmodified': 'Wed, 29 Apr 2020 09:59:46 GMT', '{DAV:}getcontentlength': '485', '{DAV:}resourcetype': None, '{DAV:}getetag': '\"5f228acc57059\"', '{DAV:}getcontenttype': 'application/octet-stream'}), File(path=/ProRail_USE_LL_data/asdz/platform2.1/20200428/ASDZ_Perron2.1_2020042801_trajectorie.parquet,file_type=file,attributes={'{DAV:}getlastmodified': 'Wed, 29 Apr 2020 09:59:47 GMT', '{DAV:}getcontentlength': '485', '{DAV:}resourcetype': None, '{DAV:}getetag': '\"5f228acda7d84\"', '{DAV:}getcontenttype': 'application/octet-stream'}), File(path=/ProRail_USE_LL_data/asdz/platform2.1/20200428/ASDZ_Perron2.1_2020042802_trajectorie.parquet,file_type=file,attributes={'{DAV:}getlastmodified': 'Wed, 29 Apr 2020 09:59:47 GMT', '{DAV:}getcontentlength': '485', '{DAV:}resourcetype': None, '{DAV:}getetag': '\"5f228acec6d0e\"', '{DAV:}getcontenttype': 'application/octet-stream'}), File(path=/ProRail_USE_LL_data/asdz/platform2.1/20200428/ASDZ_Perron2.1_2020042803_trajectorie.parquet,file_type=file,attributes={'{DAV:}getlastmodified': 'Wed, 29 Apr 2020 09:59:47 GMT', '{DAV:}getcontentlength': '6412', '{DAV:}resourcetype': None, '{DAV:}getetag': '\"5f228ad00c734\"', '{DAV:}getcontenttype': 'application/octet-stream'}), File(path=/ProRail_USE_LL_data/asdz/platform2.1/20200428/ASDZ_Perron2.1_2020042804_trajectorie.parquet,file_type=file,attributes={'{DAV:}getlastmodified': 'Wed, 29 Apr 2020 09:59:48 GMT', '{DAV:}getcontentlength': '14145', '{DAV:}resourcetype': None, '{DAV:}getetag': '\"5f228ad13123c\"', '{DAV:}getcontenttype': 'application/octet-stream'}), File(path=/ProRail_USE_LL_data/asdz/platform2.1/20200428/ASDZ_Perron2.1_2020042805_trajectorie.parquet,file_type=file,attributes={'{DAV:}getlastmodified': 'Wed, 29 Apr 2020 09:59:48 GMT', '{DAV:}getcontentlength': '61501', '{DAV:}resourcetype': None, '{DAV:}getetag': '\"5f228ad26a971\"', '{DAV:}getcontenttype': 'application/octet-stream'}), File(path=/ProRail_USE_LL_data/asdz/platform2.1/20200428/ASDZ_Perron2.1_2020042806_trajectorie.parquet,file_type=file,attributes={'{DAV:}getlastmodified': 'Wed, 29 Apr 2020 09:59:48 GMT', '{DAV:}getcontentlength': '53767', '{DAV:}resourcetype': None, '{DAV:}getetag': '\"5f228ad398455\"', '{DAV:}getcontenttype': 'application/octet-stream'}), File(path=/ProRail_USE_LL_data/asdz/platform2.1/20200428/ASDZ_Perron2.1_2020042807_trajectorie.parquet,file_type=file,attributes={'{DAV:}getlastmodified': 'Wed, 29 Apr 2020 09:59:49 GMT', '{DAV:}getcontentlength': '38104', '{DAV:}resourcetype': None, '{DAV:}getetag': '\"5f228ad4d603c\"', '{DAV:}getcontenttype': 'application/octet-stream'}), File(path=/ProRail_USE_LL_data/asdz/platform2.1/20200428/ASDZ_Perron2.1_2020042808_trajectorie.parquet,file_type=file,attributes={'{DAV:}getlastmodified': 'Wed, 29 Apr 2020 09:59:49 GMT', '{DAV:}getcontentlength': '24061', '{DAV:}resourcetype': None, '{DAV:}getetag': '\"5f228ad624e45\"', '{DAV:}getcontenttype': 'application/octet-stream'}), File(path=/ProRail_USE_LL_data/asdz/platform2.1/20200428/ASDZ_Perron2.1_2020042809_trajectorie.parquet,file_type=file,attributes={'{DAV:}getlastmodified': 'Wed, 29 Apr 2020 09:59:49 GMT', '{DAV:}getcontentlength': '22131', '{DAV:}resourcetype': None, '{DAV:}getetag': '\"5f228ad75e6da\"', '{DAV:}getcontenttype': 'application/octet-stream'}), File(path=/ProRail_USE_LL_data/asdz/platform2.1/20200428/ASDZ_Perron2.1_2020042810_trajectorie.parquet,file_type=file,attributes={'{DAV:}getlastmodified': 'Wed, 29 Apr 2020 09:59:50 GMT', '{DAV:}getcontentlength': '24357', '{DAV:}resourcetype': None, '{DAV:}getetag': '\"5f228ad881c5d\"', '{DAV:}getcontenttype': 'application/octet-stream'}), File(path=/ProRail_USE_LL_data/asdz/platform2.1/20200428/ASDZ_Perron2.1_2020042811_trajectorie.parquet,file_type=file,attributes={'{DAV:}getlastmodified': 'Wed, 29 Apr 2020 09:59:50 GMT', '{DAV:}getcontentlength': '56286', '{DAV:}resourcetype': None, '{DAV:}getetag': '\"5f228ada01b0f\"', '{DAV:}getcontenttype': 'application/octet-stream'}), File(path=/ProRail_USE_LL_data/asdz/platform2.1/20200428/ASDZ_Perron2.1_2020042812_trajectorie.parquet,file_type=file,attributes={'{DAV:}getlastmodified': 'Wed, 29 Apr 2020 09:59:50 GMT', '{DAV:}getcontentlength': '31510', '{DAV:}resourcetype': None, '{DAV:}getetag': '\"5f228adb5332a\"', '{DAV:}getcontenttype': 'application/octet-stream'}), File(path=/ProRail_USE_LL_data/asdz/platform2.1/20200428/ASDZ_Perron2.1_2020042813_trajectorie.parquet,file_type=file,attributes={'{DAV:}getlastmodified': 'Wed, 29 Apr 2020 09:59:50 GMT', '{DAV:}getcontentlength': '33264', '{DAV:}resourcetype': None, '{DAV:}getetag': '\"5f228adc8ba36\"', '{DAV:}getcontenttype': 'application/octet-stream'}), File(path=/ProRail_USE_LL_data/asdz/platform2.1/20200428/ASDZ_Perron2.1_2020042814_trajectorie.parquet,file_type=file,attributes={'{DAV:}getlastmodified': 'Wed, 29 Apr 2020 09:59:51 GMT', '{DAV:}getcontentlength': '42237', '{DAV:}resourcetype': None, '{DAV:}getetag': '\"5f228addc3dd2\"', '{DAV:}getcontenttype': 'application/octet-stream'}), File(path=/ProRail_USE_LL_data/asdz/platform2.1/20200428/ASDZ_Perron2.1_2020042815_trajectorie.parquet,file_type=file,attributes={'{DAV:}getlastmodified': 'Wed, 29 Apr 2020 09:59:51 GMT', '{DAV:}getcontentlength': '35796', '{DAV:}resourcetype': None, '{DAV:}getetag': '\"5f228adef3238\"', '{DAV:}getcontenttype': 'application/octet-stream'}), File(path=/ProRail_USE_LL_data/asdz/platform2.1/20200428/ASDZ_Perron2.1_2020042816_trajectorie.parquet,file_type=file,attributes={'{DAV:}getlastmodified': 'Wed, 29 Apr 2020 09:59:51 GMT', '{DAV:}getcontentlength': '29121', '{DAV:}resourcetype': None, '{DAV:}getetag': '\"5f228ae03bc6f\"', '{DAV:}getcontenttype': 'application/octet-stream'}), File(path=/ProRail_USE_LL_data/asdz/platform2.1/20200428/ASDZ_Perron2.1_2020042817_trajectorie.parquet,file_type=file,attributes={'{DAV:}getlastmodified': 'Wed, 29 Apr 2020 09:59:52 GMT', '{DAV:}getcontentlength': '61472', '{DAV:}resourcetype': None, '{DAV:}getetag': '\"5f228ae1681c8\"', '{DAV:}getcontenttype': 'application/octet-stream'}), File(path=/ProRail_USE_LL_data/asdz/platform2.1/20200428/ASDZ_Perron2.1_2020042818_trajectorie.parquet,file_type=file,attributes={'{DAV:}getlastmodified': 'Wed, 29 Apr 2020 09:59:52 GMT', '{DAV:}getcontentlength': '16699', '{DAV:}resourcetype': None, '{DAV:}getetag': '\"5f228ae2915ed\"', '{DAV:}getcontenttype': 'application/octet-stream'}), File(path=/ProRail_USE_LL_data/asdz/platform2.1/20200428/ASDZ_Perron2.1_2020042819_trajectorie.parquet,file_type=file,attributes={'{DAV:}getlastmodified': 'Wed, 29 Apr 2020 09:59:52 GMT', '{DAV:}getcontentlength': '27449', '{DAV:}resourcetype': None, '{DAV:}getetag': '\"5f228ae3c6640\"', '{DAV:}getcontenttype': 'application/octet-stream'}), File(path=/ProRail_USE_LL_data/asdz/platform2.1/20200428/ASDZ_Perron2.1_2020042820_trajectorie.parquet,file_type=file,attributes={'{DAV:}getlastmodified': 'Wed, 29 Apr 2020 09:59:53 GMT', '{DAV:}getcontentlength': '10283', '{DAV:}resourcetype': None, '{DAV:}getetag': '\"5f228ae509022\"', '{DAV:}getcontenttype': 'application/octet-stream'}), File(path=/ProRail_USE_LL_data/asdz/platform2.1/20200428/ASDZ_Perron2.1_2020042821_trajectorie.parquet,file_type=file,attributes={'{DAV:}getlastmodified': 'Wed, 29 Apr 2020 09:59:53 GMT', '{DAV:}getcontentlength': '10288', '{DAV:}resourcetype': None, '{DAV:}getetag': '\"5f228ae64cbf0\"', '{DAV:}getcontenttype': 'application/octet-stream'}), File(path=/ProRail_USE_LL_data/asdz/platform2.1/20200428/ASDZ_Perron2.1_2020042822_trajectorie.parquet,file_type=file,attributes={'{DAV:}getlastmodified': 'Wed, 29 Apr 2020 09:59:53 GMT', '{DAV:}getcontentlength': '3679', '{DAV:}resourcetype': None, '{DAV:}getetag': '\"5f228ae77647d\"', '{DAV:}getcontenttype': 'application/octet-stream'}), File(path=/ProRail_USE_LL_data/asdz/platform2.1/20200428/ASDZ_Perron2.1_2020042823_trajectorie.parquet,file_type=file,attributes={'{DAV:}getlastmodified': 'Wed, 29 Apr 2020 09:59:53 GMT', '{DAV:}getcontentlength': '1354', '{DAV:}resourcetype': None, '{DAV:}getetag': '\"5f228ae8be67c\"', '{DAV:}getcontenttype': 'application/octet-stream'}), File(path=/ProRail_USE_LL_data/asdz/platform2.1/20200428/ASDZ_Perron2.2_2020042800_trajectorie.parquet,file_type=file,attributes={'{DAV:}getlastmodified': 'Wed, 29 Apr 2020 10:01:03 GMT', '{DAV:}getcontentlength': '485', '{DAV:}resourcetype': None, '{DAV:}getetag': '\"5f228ae9e4377\"', '{DAV:}getcontenttype': 'application/octet-stream'}), File(path=/ProRail_USE_LL_data/asdz/platform2.1/20200428/ASDZ_Perron2.2_2020042801_trajectorie.parquet,file_type=file,attributes={'{DAV:}getlastmodified': 'Wed, 29 Apr 2020 10:01:03 GMT', '{DAV:}getcontentlength': '485', '{DAV:}resourcetype': None, '{DAV:}getetag': '\"5f228aeb37881\"', '{DAV:}getcontenttype': 'application/octet-stream'}), File(path=/ProRail_USE_LL_data/asdz/platform2.1/20200428/ASDZ_Perron2.2_2020042802_trajectorie.parquet,file_type=file,attributes={'{DAV:}getlastmodified': 'Wed, 29 Apr 2020 10:01:03 GMT', '{DAV:}getcontentlength': '485', '{DAV:}resourcetype': None, '{DAV:}getetag': '\"5f228aec71343\"', '{DAV:}getcontenttype': 'application/octet-stream'}), File(path=/ProRail_USE_LL_data/asdz/platform2.1/20200428/ASDZ_Perron2.2_2020042803_trajectorie.parquet,file_type=file,attributes={'{DAV:}getlastmodified': 'Wed, 29 Apr 2020 10:01:04 GMT', '{DAV:}getcontentlength': '74919', '{DAV:}resourcetype': None, '{DAV:}getetag': '\"5f228aeded240\"', '{DAV:}getcontenttype': 'application/octet-stream'}), File(path=/ProRail_USE_LL_data/asdz/platform2.1/20200428/ASDZ_Perron2.2_2020042804_trajectorie.parquet,file_type=file,attributes={'{DAV:}getlastmodified': 'Wed, 29 Apr 2020 10:01:04 GMT', '{DAV:}getcontentlength': '212161', '{DAV:}resourcetype': None, '{DAV:}getetag': '\"5f228aef36d25\"', '{DAV:}getcontenttype': 'application/octet-stream'}), File(path=/ProRail_USE_LL_data/asdz/platform2.1/20200428/ASDZ_Perron2.2_2020042805_trajectorie.parquet,file_type=file,attributes={'{DAV:}getlastmodified': 'Wed, 29 Apr 2020 10:01:04 GMT', '{DAV:}getcontentlength': '548654', '{DAV:}resourcetype': None, '{DAV:}getetag': '\"5f228af07ce95\"', '{DAV:}getcontenttype': 'application/octet-stream'}), File(path=/ProRail_USE_LL_data/asdz/platform2.1/20200428/ASDZ_Perron2.2_2020042806_trajectorie.parquet,file_type=file,attributes={'{DAV:}getlastmodified': 'Wed, 29 Apr 2020 10:01:05 GMT', '{DAV:}getcontentlength': '538819', '{DAV:}resourcetype': None, '{DAV:}getetag': '\"5f228af1e3102\"', '{DAV:}getcontenttype': 'application/octet-stream'}), File(path=/ProRail_USE_LL_data/asdz/platform2.1/20200428/ASDZ_Perron2.2_2020042807_trajectorie.parquet,file_type=file,attributes={'{DAV:}getlastmodified': 'Wed, 29 Apr 2020 10:01:05 GMT', '{DAV:}getcontentlength': '412377', '{DAV:}resourcetype': None, '{DAV:}getetag': '\"5f228af339e09\"', '{DAV:}getcontenttype': 'application/octet-stream'}), File(path=/ProRail_USE_LL_data/asdz/platform2.1/20200428/ASDZ_Perron2.2_2020042808_trajectorie.parquet,file_type=file,attributes={'{DAV:}getlastmodified': 'Wed, 29 Apr 2020 10:01:05 GMT', '{DAV:}getcontentlength': '346507', '{DAV:}resourcetype': None, '{DAV:}getetag': '\"5f228af48be06\"', '{DAV:}getcontenttype': 'application/octet-stream'}), File(path=/ProRail_USE_LL_data/asdz/platform2.1/20200428/ASDZ_Perron2.2_2020042809_trajectorie.parquet,file_type=file,attributes={'{DAV:}getlastmodified': 'Wed, 29 Apr 2020 10:01:06 GMT', '{DAV:}getcontentlength': '346725', '{DAV:}resourcetype': None, '{DAV:}getetag': '\"5f228af5ef0ec\"', '{DAV:}getcontenttype': 'application/octet-stream'}), File(path=/ProRail_USE_LL_data/asdz/platform2.1/20200428/ASDZ_Perron2.2_2020042810_trajectorie.parquet,file_type=file,attributes={'{DAV:}getlastmodified': 'Wed, 29 Apr 2020 10:01:06 GMT', '{DAV:}getcontentlength': '313670', '{DAV:}resourcetype': None, '{DAV:}getetag': '\"5f228af72c395\"', '{DAV:}getcontenttype': 'application/octet-stream'}), File(path=/ProRail_USE_LL_data/asdz/platform2.1/20200428/ASDZ_Perron2.2_2020042811_trajectorie.parquet,file_type=file,attributes={'{DAV:}getlastmodified': 'Wed, 29 Apr 2020 10:01:06 GMT', '{DAV:}getcontentlength': '387142', '{DAV:}resourcetype': None, '{DAV:}getetag': '\"5f228af88fa2a\"', '{DAV:}getcontenttype': 'application/octet-stream'}), File(path=/ProRail_USE_LL_data/asdz/platform2.1/20200428/ASDZ_Perron2.2_2020042812_trajectorie.parquet,file_type=file,attributes={'{DAV:}getlastmodified': 'Wed, 29 Apr 2020 10:01:07 GMT', '{DAV:}getcontentlength': '371211', '{DAV:}resourcetype': None, '{DAV:}getetag': '\"5f228af9e6413\"', '{DAV:}getcontenttype': 'application/octet-stream'}), File(path=/ProRail_USE_LL_data/asdz/platform2.1/20200428/ASDZ_Perron2.2_2020042813_trajectorie.parquet,file_type=file,attributes={'{DAV:}getlastmodified': 'Wed, 29 Apr 2020 10:01:07 GMT', '{DAV:}getcontentlength': '531125', '{DAV:}resourcetype': None, '{DAV:}getetag': '\"5f228afb4eeaa\"', '{DAV:}getcontenttype': 'application/octet-stream'}), File(path=/ProRail_USE_LL_data/asdz/platform2.1/20200428/ASDZ_Perron2.2_2020042814_trajectorie.parquet,file_type=file,attributes={'{DAV:}getlastmodified': 'Wed, 29 Apr 2020 10:01:07 GMT', '{DAV:}getcontentlength': '403845', '{DAV:}resourcetype': None, '{DAV:}getetag': '\"5f228afc8fa54\"', '{DAV:}getcontenttype': 'application/octet-stream'}), File(path=/ProRail_USE_LL_data/asdz/platform2.1/20200428/ASDZ_Perron2.2_2020042815_trajectorie.parquet,file_type=file,attributes={'{DAV:}getlastmodified': 'Wed, 29 Apr 2020 10:01:08 GMT', '{DAV:}getcontentlength': '871222', '{DAV:}resourcetype': None, '{DAV:}getetag': '\"5f228afdcfde4\"', '{DAV:}getcontenttype': 'application/octet-stream'}), File(path=/ProRail_USE_LL_data/asdz/platform2.1/20200428/ASDZ_Perron2.2_2020042816_trajectorie.parquet,file_type=file,attributes={'{DAV:}getlastmodified': 'Wed, 29 Apr 2020 10:01:08 GMT', '{DAV:}getcontentlength': '398640', '{DAV:}resourcetype': None, '{DAV:}getetag': '\"5f228aff25109\"', '{DAV:}getcontenttype': 'application/octet-stream'}), File(path=/ProRail_USE_LL_data/asdz/platform2.1/20200428/ASDZ_Perron2.2_2020042817_trajectorie.parquet,file_type=file,attributes={'{DAV:}getlastmodified': 'Wed, 29 Apr 2020 10:01:09 GMT', '{DAV:}getcontentlength': '246749', '{DAV:}resourcetype': None, '{DAV:}getetag': '\"5f228b004b3f4\"', '{DAV:}getcontenttype': 'application/octet-stream'}), File(path=/ProRail_USE_LL_data/asdz/platform2.1/20200428/ASDZ_Perron2.2_2020042818_trajectorie.parquet,file_type=file,attributes={'{DAV:}getlastmodified': 'Wed, 29 Apr 2020 10:01:09 GMT', '{DAV:}getcontentlength': '222078', '{DAV:}resourcetype': None, '{DAV:}getetag': '\"5f228b0185953\"', '{DAV:}getcontenttype': 'application/octet-stream'}), File(path=/ProRail_USE_LL_data/asdz/platform2.1/20200428/ASDZ_Perron2.2_2020042819_trajectorie.parquet,file_type=file,attributes={'{DAV:}getlastmodified': 'Wed, 29 Apr 2020 10:01:09 GMT', '{DAV:}getcontentlength': '175323', '{DAV:}resourcetype': None, '{DAV:}getetag': '\"5f228b02b050b\"', '{DAV:}getcontenttype': 'application/octet-stream'}), File(path=/ProRail_USE_LL_data/asdz/platform2.1/20200428/ASDZ_Perron2.2_2020042820_trajectorie.parquet,file_type=file,attributes={'{DAV:}getlastmodified': 'Wed, 29 Apr 2020 10:01:10 GMT', '{DAV:}getcontentlength': '140832', '{DAV:}resourcetype': None, '{DAV:}getetag': '\"5f228b040d3d8\"', '{DAV:}getcontenttype': 'application/octet-stream'}), File(path=/ProRail_USE_LL_data/asdz/platform2.1/20200428/ASDZ_Perron2.2_2020042821_trajectorie.parquet,file_type=file,attributes={'{DAV:}getlastmodified': 'Wed, 29 Apr 2020 10:01:10 GMT', '{DAV:}getcontentlength': '122537', '{DAV:}resourcetype': None, '{DAV:}getetag': '\"5f228b053d9df\"', '{DAV:}getcontenttype': 'application/octet-stream'}), File(path=/ProRail_USE_LL_data/asdz/platform2.1/20200428/ASDZ_Perron2.2_2020042822_trajectorie.parquet,file_type=file,attributes={'{DAV:}getlastmodified': 'Wed, 29 Apr 2020 10:01:10 GMT', '{DAV:}getcontentlength': '82894', '{DAV:}resourcetype': None, '{DAV:}getetag': '\"5f228b068c741\"', '{DAV:}getcontenttype': 'application/octet-stream'}), File(path=/ProRail_USE_LL_data/asdz/platform2.1/20200428/ASDZ_Perron2.2_2020042823_trajectorie.parquet,file_type=file,attributes={'{DAV:}getlastmodified': 'Wed, 29 Apr 2020 10:01:11 GMT', '{DAV:}getcontentlength': '5410', '{DAV:}resourcetype': None, '{DAV:}getetag': '\"5f228b07b9cf7\"', '{DAV:}getcontenttype': 'application/octet-stream'})]\n"
     ]
    }
   ],
   "source": [
    "# uses the https://github.com/owncloud/pyocclient\n",
    "# pip3 install pyocclient\n",
    "import owncloud\n",
    "import os\n",
    "import sys\n",
    "\n",
    "def wd(usr, tok):\n",
    "    try:\n",
    "        oc = owncloud.Client('https://tue.data.surfsara.nl')\n",
    "        oc.login(usr, tok)\n",
    "        return oc\n",
    "    except Exception as e:\n",
    "        print(\"oeps, something goes wrong. User: \" + usr + \" Token: \" + tok)\n",
    "        print(\"Error: \" + e)\n",
    "        sys.exit(2)\n",
    "\n",
    "your_username = ''\n",
    "your_token = ''\n",
    "oc = wd(your_username, your_token)\n",
    "entries = oc.list('/ProRail_USE_LL_data/asdz/platform2.1/20200428/')\n",
    "\n",
    "print(entries)"
   ]
  },
  {
   "cell_type": "code",
   "execution_count": 42,
   "metadata": {
    "scrolled": true
   },
   "outputs": [
    {
     "data": {
      "text/plain": [
       "['OCS_BASEPATH',\n",
       " 'OCS_PERMISSION_ALL',\n",
       " 'OCS_PERMISSION_CREATE',\n",
       " 'OCS_PERMISSION_DELETE',\n",
       " 'OCS_PERMISSION_READ',\n",
       " 'OCS_PERMISSION_SHARE',\n",
       " 'OCS_PERMISSION_UPDATE',\n",
       " 'OCS_SERVICE_CLOUD',\n",
       " 'OCS_SERVICE_PRIVATEDATA',\n",
       " 'OCS_SERVICE_SHARE',\n",
       " 'OCS_SHARE_TYPE_GROUP',\n",
       " 'OCS_SHARE_TYPE_LINK',\n",
       " 'OCS_SHARE_TYPE_REMOTE',\n",
       " 'OCS_SHARE_TYPE_USER',\n",
       " '__class__',\n",
       " '__delattr__',\n",
       " '__dict__',\n",
       " '__dir__',\n",
       " '__doc__',\n",
       " '__eq__',\n",
       " '__format__',\n",
       " '__ge__',\n",
       " '__getattribute__',\n",
       " '__gt__',\n",
       " '__hash__',\n",
       " '__init__',\n",
       " '__init_subclass__',\n",
       " '__le__',\n",
       " '__lt__',\n",
       " '__module__',\n",
       " '__ne__',\n",
       " '__new__',\n",
       " '__reduce__',\n",
       " '__reduce_ex__',\n",
       " '__repr__',\n",
       " '__setattr__',\n",
       " '__sizeof__',\n",
       " '__str__',\n",
       " '__subclasshook__',\n",
       " '__weakref__',\n",
       " '_capabilities',\n",
       " '_check_ocs_status',\n",
       " '_davpath',\n",
       " '_debug',\n",
       " '_encode_string',\n",
       " '_get_shareinfo',\n",
       " '_make_dav_request',\n",
       " '_make_ocs_request',\n",
       " '_normalize_path',\n",
       " '_parse_dav_element',\n",
       " '_parse_dav_response',\n",
       " '_put_file_chunked',\n",
       " '_session',\n",
       " '_strip_dav_path',\n",
       " '_update_capabilities',\n",
       " '_verify_certs',\n",
       " '_version',\n",
       " '_webdav_move_copy',\n",
       " '_webdav_url',\n",
       " '_xml_to_dict',\n",
       " 'accept_remote_share',\n",
       " 'add_user_to_group',\n",
       " 'add_user_to_subadmin_group',\n",
       " 'copy',\n",
       " 'create_group',\n",
       " 'create_user',\n",
       " 'decline_remote_share',\n",
       " 'delete',\n",
       " 'delete_attribute',\n",
       " 'delete_group',\n",
       " 'delete_share',\n",
       " 'delete_user',\n",
       " 'disable_app',\n",
       " 'enable_app',\n",
       " 'file_info',\n",
       " 'get_apps',\n",
       " 'get_attribute',\n",
       " 'get_capabilities',\n",
       " 'get_config',\n",
       " 'get_directory_as_zip',\n",
       " 'get_file',\n",
       " 'get_file_contents',\n",
       " 'get_share',\n",
       " 'get_shares',\n",
       " 'get_user',\n",
       " 'get_user_groups',\n",
       " 'get_user_subadmin_groups',\n",
       " 'get_version',\n",
       " 'group_exists',\n",
       " 'is_shared',\n",
       " 'list',\n",
       " 'list_open_remote_share',\n",
       " 'login',\n",
       " 'logout',\n",
       " 'make_ocs_request',\n",
       " 'mkdir',\n",
       " 'move',\n",
       " 'put_directory',\n",
       " 'put_file',\n",
       " 'put_file_contents',\n",
       " 'remove_user_from_group',\n",
       " 'search_users',\n",
       " 'set_attribute',\n",
       " 'set_user_attribute',\n",
       " 'share_file_with_group',\n",
       " 'share_file_with_link',\n",
       " 'share_file_with_user',\n",
       " 'update_share',\n",
       " 'url',\n",
       " 'user_exists',\n",
       " 'user_is_in_group',\n",
       " 'user_is_in_subadmin_group']"
      ]
     },
     "execution_count": 42,
     "metadata": {},
     "output_type": "execute_result"
    }
   ],
   "source": [
    "dir(oc)"
   ]
  },
  {
   "cell_type": "markdown",
   "metadata": {},
   "source": [
    "### Download to local filesystem"
   ]
  },
  {
   "cell_type": "code",
   "execution_count": 18,
   "metadata": {},
   "outputs": [
    {
     "data": {
      "text/plain": [
       "True"
      ]
     },
     "execution_count": 18,
     "metadata": {},
     "output_type": "execute_result"
    }
   ],
   "source": [
    "oc.get_file('/ProRail_USE_LL_data/asdz/platform2.1/20200428/ASDZ_Perron2.1_2020042800_trajectorie.parquet', 'research_drive_test_download.parquet')"
   ]
  },
  {
   "cell_type": "markdown",
   "metadata": {},
   "source": [
    "### Load directly into memory"
   ]
  },
  {
   "cell_type": "code",
   "execution_count": 40,
   "metadata": {},
   "outputs": [
    {
     "data": {
      "text/plain": [
       "b\"PAR1\\x15\\x00\\x15\\x08\\x15\\x0c,\\x15\\x00\\x15\\x00\\x15\\x06\\x15\\x06\\x1c6\\x00\\x16\\x00\\x00\\x00\\x00\\x04\\x0c\\x00\\x00\\x00\\x00\\x15\\x00\\x15\\x08\\x15\\x0c,\\x15\\x00\\x15\\x00\\x15\\x06\\x15\\x06\\x1c6\\x00\\x16\\x00\\x00\\x00\\x00\\x04\\x0c\\x00\\x00\\x00\\x00\\x15\\x00\\x15\\x08\\x15\\x0c,\\x15\\x00\\x15\\x00\\x15\\x06\\x15\\x06\\x1c6\\x00\\x16\\x00\\x00\\x00\\x00\\x04\\x0c\\x00\\x00\\x00\\x00\\x15\\x00\\x15\\x08\\x15\\x0c,\\x15\\x00\\x15\\x00\\x15\\x06\\x15\\x06\\x1c6\\x00\\x16\\x00\\x00\\x00\\x00\\x04\\x0c\\x00\\x00\\x00\\x00\\x15\\x02\\x19\\\\H\\x15parquet-dotnet-schema\\x15\\x08\\x00\\x15\\x0c%\\x02\\x18\\rdate_time_utc%\\x00\\x00\\x15\\x0c%\\x02\\x18\\x0etracked_object%\\x00\\x00\\x15\\x0c%\\x02\\x18\\x05x_pos%\\x00\\x00\\x15\\x0c%\\x02\\x18\\x05y_pos%\\x00\\x00\\x16\\x00\\x19\\x1c\\x19L&\\x08\\x1c\\x15\\x0c\\x195\\x06\\x08\\x00\\x19\\x18\\rdate_time_utc\\x15\\x02\\x16\\x00\\x166\\x16:&\\x08<6\\x00\\x16\\x00\\x00\\x00\\x00&B\\x1c\\x15\\x0c\\x195\\x06\\x08\\x00\\x19\\x18\\x0etracked_object\\x15\\x02\\x16\\x00\\x166\\x16:&B<6\\x00\\x16\\x00\\x00\\x00\\x00&|\\x1c\\x15\\x0c\\x195\\x06\\x08\\x00\\x19\\x18\\x05x_pos\\x15\\x02\\x16\\x00\\x166\\x16:&|<6\\x00\\x16\\x00\\x00\\x00\\x00&\\xb6\\x01\\x1c\\x15\\x0c\\x195\\x06\\x08\\x00\\x19\\x18\\x05y_pos\\x15\\x02\\x16\\x00\\x166\\x16:&\\xb6\\x01<6\\x00\\x16\\x00\\x00\\x00\\x00\\x16\\xe8\\x01\\x16\\x00\\x00(LParquet.Net version 3.6.0 (build 'a9c87c4cd1f014777556ec6b03e3b4a2717881f5')\\x00e\\x01\\x00\\x00PAR1\""
      ]
     },
     "execution_count": 40,
     "metadata": {},
     "output_type": "execute_result"
    }
   ],
   "source": [
    "df = oc.get_file_contents('/ProRail_USE_LL_data/asdz/platform2.1/20200428/ASDZ_Perron2.1_2020042800_trajectorie.parquet')\n",
    "df"
   ]
  }
 ],
 "metadata": {
  "kernelspec": {
   "display_name": "Python 3",
   "language": "python",
   "name": "python3"
  },
  "language_info": {
   "codemirror_mode": {
    "name": "ipython",
    "version": 3
   },
   "file_extension": ".py",
   "mimetype": "text/x-python",
   "name": "python",
   "nbconvert_exporter": "python",
   "pygments_lexer": "ipython3",
   "version": "3.7.4"
  }
 },
 "nbformat": 4,
 "nbformat_minor": 2
}
