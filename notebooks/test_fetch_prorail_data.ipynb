{
 "cells": [
  {
   "cell_type": "code",
   "execution_count": 1,
   "metadata": {},
   "outputs": [],
   "source": [
    "%load_ext autoreload\n",
    "%autoreload 2\n",
    "\n",
    "from sociophysicsDataHandler import SociophysicsDataHandler"
   ]
  },
  {
   "cell_type": "code",
   "execution_count": 2,
   "metadata": {},
   "outputs": [],
   "source": [
    "dh = SociophysicsDataHandler()"
   ]
  },
  {
   "cell_type": "code",
   "execution_count": 5,
   "metadata": {},
   "outputs": [
    {
     "name": "stdout",
     "output_type": "stream",
     "text": [
      "trying to fetch: /ProRail_USE_LL_data/asdz/platform2.1/20200428/ASDZ_Perron2.1_2020042809_trajectorie.parquet\n",
      "data fetched. Accessible as <this-object>.df\n"
     ]
    },
    {
     "data": {
      "text/html": [
       "<div>\n",
       "<style scoped>\n",
       "    .dataframe tbody tr th:only-of-type {\n",
       "        vertical-align: middle;\n",
       "    }\n",
       "\n",
       "    .dataframe tbody tr th {\n",
       "        vertical-align: top;\n",
       "    }\n",
       "\n",
       "    .dataframe thead th {\n",
       "        text-align: right;\n",
       "    }\n",
       "</style>\n",
       "<table border=\"1\" class=\"dataframe\">\n",
       "  <thead>\n",
       "    <tr style=\"text-align: right;\">\n",
       "      <th></th>\n",
       "      <th>date_time_utc</th>\n",
       "      <th>tracked_object</th>\n",
       "      <th>x_pos</th>\n",
       "      <th>y_pos</th>\n",
       "    </tr>\n",
       "  </thead>\n",
       "  <tbody>\n",
       "    <tr>\n",
       "      <th>0</th>\n",
       "      <td>1.588065e+12</td>\n",
       "      <td>23323</td>\n",
       "      <td>914.0</td>\n",
       "      <td>2011.0</td>\n",
       "    </tr>\n",
       "    <tr>\n",
       "      <th>1</th>\n",
       "      <td>1.588065e+12</td>\n",
       "      <td>23323</td>\n",
       "      <td>832.0</td>\n",
       "      <td>1808.0</td>\n",
       "    </tr>\n",
       "    <tr>\n",
       "      <th>2</th>\n",
       "      <td>1.588065e+12</td>\n",
       "      <td>23323</td>\n",
       "      <td>751.0</td>\n",
       "      <td>1625.0</td>\n",
       "    </tr>\n",
       "    <tr>\n",
       "      <th>3</th>\n",
       "      <td>1.588065e+12</td>\n",
       "      <td>23323</td>\n",
       "      <td>670.0</td>\n",
       "      <td>1483.0</td>\n",
       "    </tr>\n",
       "    <tr>\n",
       "      <th>4</th>\n",
       "      <td>1.588065e+12</td>\n",
       "      <td>23323</td>\n",
       "      <td>589.0</td>\n",
       "      <td>1341.0</td>\n",
       "    </tr>\n",
       "    <tr>\n",
       "      <th>...</th>\n",
       "      <td>...</td>\n",
       "      <td>...</td>\n",
       "      <td>...</td>\n",
       "      <td>...</td>\n",
       "    </tr>\n",
       "    <tr>\n",
       "      <th>2012</th>\n",
       "      <td>1.588068e+12</td>\n",
       "      <td>23358</td>\n",
       "      <td>-2015.0</td>\n",
       "      <td>1866.0</td>\n",
       "    </tr>\n",
       "    <tr>\n",
       "      <th>2013</th>\n",
       "      <td>1.588068e+12</td>\n",
       "      <td>23358</td>\n",
       "      <td>-2015.0</td>\n",
       "      <td>1866.0</td>\n",
       "    </tr>\n",
       "    <tr>\n",
       "      <th>2014</th>\n",
       "      <td>1.588068e+12</td>\n",
       "      <td>23358</td>\n",
       "      <td>-2015.0</td>\n",
       "      <td>1859.0</td>\n",
       "    </tr>\n",
       "    <tr>\n",
       "      <th>2015</th>\n",
       "      <td>1.588068e+12</td>\n",
       "      <td>23358</td>\n",
       "      <td>-2015.0</td>\n",
       "      <td>1857.0</td>\n",
       "    </tr>\n",
       "    <tr>\n",
       "      <th>2016</th>\n",
       "      <td>1.588068e+12</td>\n",
       "      <td>23358</td>\n",
       "      <td>-2015.0</td>\n",
       "      <td>1854.0</td>\n",
       "    </tr>\n",
       "  </tbody>\n",
       "</table>\n",
       "<p>2017 rows × 4 columns</p>\n",
       "</div>"
      ],
      "text/plain": [
       "      date_time_utc  tracked_object   x_pos   y_pos\n",
       "0      1.588065e+12           23323   914.0  2011.0\n",
       "1      1.588065e+12           23323   832.0  1808.0\n",
       "2      1.588065e+12           23323   751.0  1625.0\n",
       "3      1.588065e+12           23323   670.0  1483.0\n",
       "4      1.588065e+12           23323   589.0  1341.0\n",
       "...             ...             ...     ...     ...\n",
       "2012   1.588068e+12           23358 -2015.0  1866.0\n",
       "2013   1.588068e+12           23358 -2015.0  1866.0\n",
       "2014   1.588068e+12           23358 -2015.0  1859.0\n",
       "2015   1.588068e+12           23358 -2015.0  1857.0\n",
       "2016   1.588068e+12           23358 -2015.0  1854.0\n",
       "\n",
       "[2017 rows x 4 columns]"
      ]
     },
     "execution_count": 5,
     "metadata": {},
     "output_type": "execute_result"
    }
   ],
   "source": [
    "dh.fetch_data_from_path('asdz/platform2.1/20200428/ASDZ_Perron2.1_2020042809_trajectorie.parquet' )\n",
    "dh.df"
   ]
  }
 ],
 "metadata": {
  "kernelspec": {
   "display_name": "Python 3",
   "language": "python",
   "name": "python3"
  },
  "language_info": {
   "codemirror_mode": {
    "name": "ipython",
    "version": 3
   },
   "file_extension": ".py",
   "mimetype": "text/x-python",
   "name": "python",
   "nbconvert_exporter": "python",
   "pygments_lexer": "ipython3",
   "version": "3.7.4"
  }
 },
 "nbformat": 4,
 "nbformat_minor": 2
}
